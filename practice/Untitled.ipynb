{
 "cells": [
  {
   "cell_type": "code",
   "execution_count": 5,
   "metadata": {
    "collapsed": true
   },
   "outputs": [],
   "source": [
    "import numpy as np\n",
    "import pandas as pd\n",
    "import csv"
   ]
  },
  {
   "cell_type": "code",
   "execution_count": 9,
   "metadata": {
    "collapsed": false
   },
   "outputs": [
    {
     "name": "stdout",
     "output_type": "stream",
     "text": [
      "['E1400', '23451', '21456'] ['E1400', 'AB1 3HJ']\n",
      "['E1401', '23123', '22345'] ['E1401', 'AB2 8YU']\n",
      "['E1400', '15674', '13232'] ['E1400', 'AB1 3HJ']\n",
      "['E1403', '21001', '20143'] ['E1403', 'FG6 2ER']\n",
      "['E1401', '23321', '23001'] ['E1401', 'AB2 8YU']\n",
      "['E1405', '25342', '24001'] ['E1405', 'CV4 8GD']\n",
      "['E1406', '25532', '24512'] ['E1406', 'SD3 4NM']\n"
     ]
    }
   ],
   "source": [
    "postcode = []\n",
    "\n",
    "with open('salary.csv','r',encoding='utf-8-sig') as file1:\n",
    "    reader1 = csv.reader(file1)\n",
    "    for row1 in reader1:\n",
    "#         print(row1)\n",
    "        with open('condensed.csv','r') as file2:\n",
    "            reader2 = csv.reader(file2)\n",
    "            for row2 in reader2:\n",
    "                if row1[0]==row2[0]:\n",
    "                    print(row1, row2)\n",
    "                    postcode.append(row2[1])\n",
    "                    \n",
    "                    "
   ]
  },
  {
   "cell_type": "code",
   "execution_count": 11,
   "metadata": {
    "collapsed": false
   },
   "outputs": [
    {
     "name": "stdout",
     "output_type": "stream",
     "text": [
      "      ID  median   mean\n",
      "0  E1400   23451  21456\n",
      "1  E1401   23123  22345\n",
      "2  E1400   15674  13232\n",
      "3  E1403   21001  20143\n",
      "4  E1401   23321  23001\n",
      "5  E1405   25342  24001\n",
      "6  E1406   25532  24512\n"
     ]
    }
   ],
   "source": [
    "salary = pd.read_csv('salary.csv', names=('ID', 'median', 'mean'))\n",
    "print(salary)"
   ]
  },
  {
   "cell_type": "code",
   "execution_count": 12,
   "metadata": {
    "collapsed": false
   },
   "outputs": [],
   "source": [
    "salary['postcode'] = np.array(postcode)\n"
   ]
  },
  {
   "cell_type": "code",
   "execution_count": 13,
   "metadata": {
    "collapsed": false
   },
   "outputs": [
    {
     "data": {
      "text/html": [
       "<div>\n",
       "<style>\n",
       "    .dataframe thead tr:only-child th {\n",
       "        text-align: right;\n",
       "    }\n",
       "\n",
       "    .dataframe thead th {\n",
       "        text-align: left;\n",
       "    }\n",
       "\n",
       "    .dataframe tbody tr th {\n",
       "        vertical-align: top;\n",
       "    }\n",
       "</style>\n",
       "<table border=\"1\" class=\"dataframe\">\n",
       "  <thead>\n",
       "    <tr style=\"text-align: right;\">\n",
       "      <th></th>\n",
       "      <th>ID</th>\n",
       "      <th>median</th>\n",
       "      <th>mean</th>\n",
       "      <th>postcode</th>\n",
       "    </tr>\n",
       "  </thead>\n",
       "  <tbody>\n",
       "    <tr>\n",
       "      <th>0</th>\n",
       "      <td>E1400</td>\n",
       "      <td>23451</td>\n",
       "      <td>21456</td>\n",
       "      <td>AB1 3HJ</td>\n",
       "    </tr>\n",
       "    <tr>\n",
       "      <th>1</th>\n",
       "      <td>E1401</td>\n",
       "      <td>23123</td>\n",
       "      <td>22345</td>\n",
       "      <td>AB2 8YU</td>\n",
       "    </tr>\n",
       "    <tr>\n",
       "      <th>2</th>\n",
       "      <td>E1400</td>\n",
       "      <td>15674</td>\n",
       "      <td>13232</td>\n",
       "      <td>AB1 3HJ</td>\n",
       "    </tr>\n",
       "    <tr>\n",
       "      <th>3</th>\n",
       "      <td>E1403</td>\n",
       "      <td>21001</td>\n",
       "      <td>20143</td>\n",
       "      <td>FG6 2ER</td>\n",
       "    </tr>\n",
       "    <tr>\n",
       "      <th>4</th>\n",
       "      <td>E1401</td>\n",
       "      <td>23321</td>\n",
       "      <td>23001</td>\n",
       "      <td>AB2 8YU</td>\n",
       "    </tr>\n",
       "    <tr>\n",
       "      <th>5</th>\n",
       "      <td>E1405</td>\n",
       "      <td>25342</td>\n",
       "      <td>24001</td>\n",
       "      <td>CV4 8GD</td>\n",
       "    </tr>\n",
       "    <tr>\n",
       "      <th>6</th>\n",
       "      <td>E1406</td>\n",
       "      <td>25532</td>\n",
       "      <td>24512</td>\n",
       "      <td>SD3 4NM</td>\n",
       "    </tr>\n",
       "  </tbody>\n",
       "</table>\n",
       "</div>"
      ],
      "text/plain": [
       "      ID  median   mean postcode\n",
       "0  E1400   23451  21456  AB1 3HJ\n",
       "1  E1401   23123  22345  AB2 8YU\n",
       "2  E1400   15674  13232  AB1 3HJ\n",
       "3  E1403   21001  20143  FG6 2ER\n",
       "4  E1401   23321  23001  AB2 8YU\n",
       "5  E1405   25342  24001  CV4 8GD\n",
       "6  E1406   25532  24512  SD3 4NM"
      ]
     },
     "execution_count": 13,
     "metadata": {},
     "output_type": "execute_result"
    }
   ],
   "source": [
    "salary"
   ]
  },
  {
   "cell_type": "code",
   "execution_count": 10,
   "metadata": {
    "collapsed": false
   },
   "outputs": [
    {
     "name": "stdout",
     "output_type": "stream",
     "text": [
      "['E1400', 'AB1 3HJ']\n",
      "['E1401', 'AB2 8YU']\n",
      "['E1402', 'CV1 8GT']\n",
      "['E1403', 'FG6 2ER']\n",
      "['E1404', 'CK1 6KK']\n",
      "['E1405', 'CV4 8GD']\n",
      "['E1406', 'SD3 4NM']\n",
      "['E1407', 'AB1 3HJ']\n",
      "['E1408', 'CV4 8GD']\n",
      "['E1409', 'AB2 8YU']\n",
      "['E1410', 'FG6 2ER']\n"
     ]
    }
   ],
   "source": [
    "with open('condensed.csv','r') as infile:\n",
    "    reader = csv.reader(infile)\n",
    "    for row in reader:\n",
    "        print(row)"
   ]
  },
  {
   "cell_type": "code",
   "execution_count": 13,
   "metadata": {
    "collapsed": false
   },
   "outputs": [
    {
     "data": {
      "text/plain": [
       "'E1410'"
      ]
     },
     "execution_count": 13,
     "metadata": {},
     "output_type": "execute_result"
    }
   ],
   "source": [
    "row[0]"
   ]
  },
  {
   "cell_type": "code",
   "execution_count": 8,
   "metadata": {
    "collapsed": false
   },
   "outputs": [
    {
     "name": "stdout",
     "output_type": "stream",
     "text": [
      "['E1400', 'AB1 3HJ']\n",
      "['E1401', 'AB2 8YU']\n",
      "['E1402', 'CV1 8GT']\n",
      "['E1403', 'FG6 2ER']\n",
      "['E1404', 'CK1 6KK']\n",
      "['E1405', 'CV4 8GD']\n",
      "['E1406', 'SD3 4NM']\n",
      "['E1407', 'AB1 3HJ']\n",
      "['E1408', 'CV4 8GD']\n",
      "['E1409', 'AB2 8YU']\n",
      "['E1410', 'FG6 2ER']\n",
      "[]\n",
      "['E1400', 'AB1 3HJ']\n",
      "['E1401', 'AB2 8YU']\n",
      "['E1402', 'CV1 8GT']\n",
      "['E1403', 'FG6 2ER']\n",
      "['E1404', 'CK1 6KK']\n",
      "['E1405', 'CV4 8GD']\n",
      "['E1406', 'SD3 4NM']\n",
      "['E1407', 'AB1 3HJ']\n",
      "['E1408', 'CV4 8GD']\n",
      "['E1409', 'AB2 8YU']\n",
      "['E1410', 'FG6 2ER']\n",
      "[]\n",
      "['E1400', 'AB1 3HJ']\n",
      "['E1401', 'AB2 8YU']\n",
      "['E1402', 'CV1 8GT']\n",
      "['E1403', 'FG6 2ER']\n",
      "['E1404', 'CK1 6KK']\n",
      "['E1405', 'CV4 8GD']\n",
      "['E1406', 'SD3 4NM']\n",
      "['E1407', 'AB1 3HJ']\n",
      "['E1408', 'CV4 8GD']\n",
      "['E1409', 'AB2 8YU']\n",
      "['E1410', 'FG6 2ER']\n",
      "[]\n",
      "['E1400', 'AB1 3HJ']\n",
      "['E1401', 'AB2 8YU']\n",
      "['E1402', 'CV1 8GT']\n",
      "['E1403', 'FG6 2ER']\n",
      "['E1404', 'CK1 6KK']\n",
      "['E1405', 'CV4 8GD']\n",
      "['E1406', 'SD3 4NM']\n",
      "['E1407', 'AB1 3HJ']\n",
      "['E1408', 'CV4 8GD']\n",
      "['E1409', 'AB2 8YU']\n",
      "['E1410', 'FG6 2ER']\n",
      "[]\n",
      "['E1400', 'AB1 3HJ']\n",
      "['E1401', 'AB2 8YU']\n",
      "['E1402', 'CV1 8GT']\n",
      "['E1403', 'FG6 2ER']\n",
      "['E1404', 'CK1 6KK']\n",
      "['E1405', 'CV4 8GD']\n",
      "['E1406', 'SD3 4NM']\n",
      "['E1407', 'AB1 3HJ']\n",
      "['E1408', 'CV4 8GD']\n",
      "['E1409', 'AB2 8YU']\n",
      "['E1410', 'FG6 2ER']\n",
      "[]\n",
      "['E1400', 'AB1 3HJ']\n",
      "['E1401', 'AB2 8YU']\n",
      "['E1402', 'CV1 8GT']\n",
      "['E1403', 'FG6 2ER']\n",
      "['E1404', 'CK1 6KK']\n",
      "['E1405', 'CV4 8GD']\n",
      "['E1406', 'SD3 4NM']\n",
      "['E1407', 'AB1 3HJ']\n",
      "['E1408', 'CV4 8GD']\n",
      "['E1409', 'AB2 8YU']\n",
      "['E1410', 'FG6 2ER']\n",
      "[]\n",
      "['E1400', 'AB1 3HJ']\n",
      "['E1401', 'AB2 8YU']\n",
      "['E1402', 'CV1 8GT']\n",
      "['E1403', 'FG6 2ER']\n",
      "['E1404', 'CK1 6KK']\n",
      "['E1405', 'CV4 8GD']\n",
      "['E1406', 'SD3 4NM']\n",
      "['E1407', 'AB1 3HJ']\n",
      "['E1408', 'CV4 8GD']\n",
      "['E1409', 'AB2 8YU']\n",
      "['E1410', 'FG6 2ER']\n",
      "[]\n"
     ]
    }
   ],
   "source": [
    "with open('salary.csv','r') as file1:\n",
    "    for t in file1:\n",
    "        with open('condensed.csv','r') as file2:\n",
    "            for row in csv.reader(file2):\n",
    "                print(row)\n",
    "            entry = [row for row in csv.reader(file2) if row[1].lstrip().rstrip() == t.lstrip().rstrip()]\n",
    "            print(entry)"
   ]
  }
 ],
 "metadata": {
  "kernelspec": {
   "display_name": "Python 3",
   "language": "python",
   "name": "python3"
  },
  "language_info": {
   "codemirror_mode": {
    "name": "ipython",
    "version": 3
   },
   "file_extension": ".py",
   "mimetype": "text/x-python",
   "name": "python",
   "nbconvert_exporter": "python",
   "pygments_lexer": "ipython3",
   "version": "3.5.2"
  }
 },
 "nbformat": 4,
 "nbformat_minor": 2
}
